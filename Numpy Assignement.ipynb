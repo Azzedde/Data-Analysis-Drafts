{
 "cells": [
  {
   "cell_type": "code",
   "execution_count": 1,
   "id": "805dbdd1",
   "metadata": {},
   "outputs": [],
   "source": [
    "import numpy as np\n",
    "a1 = np.array([1,2,3,4,5,6])\n",
    "a2 = np.array([\n",
    "    [1,2],\n",
    "    [3,4],\n",
    "    [5,6],\n",
    "])\n",
    "a3 = np.array([[[1, 2, 3],\n",
    "                [4, 5, 6],\n",
    "                [7, 8, 9]],\n",
    "                [[10, 11, 12],\n",
    "                 [13, 14, 15],\n",
    "                 [16, 17, 18]]])"
   ]
  },
  {
   "cell_type": "code",
   "execution_count": 4,
   "id": "5d9e7857",
   "metadata": {
    "scrolled": true
   },
   "outputs": [
    {
     "name": "stdout",
     "output_type": "stream",
     "text": [
      "Shape of a1: (6,)\n",
      "Shape of a2: (3, 2)\n",
      "Shape of a3: (2, 3, 3)\n"
     ]
    }
   ],
   "source": [
    "#Shapes\n",
    "print(\"Shape of a1: \"+str(a1.shape))\n",
    "print(\"Shape of a2: \"+str(a2.shape))\n",
    "print(\"Shape of a3: \"+str(a3.shape))"
   ]
  },
  {
   "cell_type": "code",
   "execution_count": 5,
   "id": "920f6e97",
   "metadata": {},
   "outputs": [
    {
     "name": "stdout",
     "output_type": "stream",
     "text": [
      "Number of Dimension of a1: 1\n",
      "Number of Dimension of a2: 2\n",
      "Number of Dimension of a3: 3\n"
     ]
    }
   ],
   "source": [
    "#Number of Dimension\n",
    "print(\"Number of Dimension of a1: \"+str(a1.ndim))\n",
    "print(\"Number of Dimension of a2: \"+str(a2.ndim))\n",
    "print(\"Number of Dimension of a3: \"+str(a3.ndim))"
   ]
  },
  {
   "cell_type": "code",
   "execution_count": 6,
   "id": "27e81a0f",
   "metadata": {},
   "outputs": [
    {
     "name": "stdout",
     "output_type": "stream",
     "text": [
      "Data Type of a1: int32\n",
      "Data Type of a2: int32\n",
      "Data Type of a3: int32\n"
     ]
    }
   ],
   "source": [
    "#Data types\n",
    "print(\"Data Type of a1: \"+str(a1.dtype))\n",
    "print(\"Data Type of a2: \"+str(a2.dtype))\n",
    "print(\"Data Type of a3: \"+str(a3.dtype))"
   ]
  },
  {
   "cell_type": "code",
   "execution_count": 7,
   "id": "8382e5db",
   "metadata": {},
   "outputs": [
    {
     "name": "stdout",
     "output_type": "stream",
     "text": [
      "Size of a1: 6\n",
      "Size of a2: 6\n",
      "Size of a3: 18\n"
     ]
    }
   ],
   "source": [
    "#Size\n",
    "print(\"Size of a1: \"+str(a1.size))\n",
    "print(\"Size of a2: \"+str(a2.size))\n",
    "print(\"Size of a3: \"+str(a3.size))"
   ]
  },
  {
   "cell_type": "code",
   "execution_count": 10,
   "id": "4849ae9b",
   "metadata": {},
   "outputs": [
    {
     "name": "stdout",
     "output_type": "stream",
     "text": [
      "Type of a1: <class 'numpy.ndarray'>\n",
      "Type of a2: <class 'numpy.ndarray'>\n",
      "Type of a3: <class 'numpy.ndarray'>\n"
     ]
    }
   ],
   "source": [
    "#Type\n",
    "print(\"Type of a1: \"+str(type(a1)))\n",
    "print(\"Type of a2: \"+str(type(a2)))\n",
    "print(\"Type of a3: \"+str(type(a3)))"
   ]
  },
  {
   "cell_type": "code",
   "execution_count": 12,
   "id": "b8f28898",
   "metadata": {},
   "outputs": [
    {
     "data": {
      "text/html": [
       "<div>\n",
       "<style scoped>\n",
       "    .dataframe tbody tr th:only-of-type {\n",
       "        vertical-align: middle;\n",
       "    }\n",
       "\n",
       "    .dataframe tbody tr th {\n",
       "        vertical-align: top;\n",
       "    }\n",
       "\n",
       "    .dataframe thead th {\n",
       "        text-align: right;\n",
       "    }\n",
       "</style>\n",
       "<table border=\"1\" class=\"dataframe\">\n",
       "  <thead>\n",
       "    <tr style=\"text-align: right;\">\n",
       "      <th></th>\n",
       "      <th>0</th>\n",
       "      <th>1</th>\n",
       "    </tr>\n",
       "  </thead>\n",
       "  <tbody>\n",
       "    <tr>\n",
       "      <th>0</th>\n",
       "      <td>1</td>\n",
       "      <td>2</td>\n",
       "    </tr>\n",
       "    <tr>\n",
       "      <th>1</th>\n",
       "      <td>3</td>\n",
       "      <td>4</td>\n",
       "    </tr>\n",
       "    <tr>\n",
       "      <th>2</th>\n",
       "      <td>5</td>\n",
       "      <td>6</td>\n",
       "    </tr>\n",
       "  </tbody>\n",
       "</table>\n",
       "</div>"
      ],
      "text/plain": [
       "   0  1\n",
       "0  1  2\n",
       "1  3  4\n",
       "2  5  6"
      ]
     },
     "execution_count": 12,
     "metadata": {},
     "output_type": "execute_result"
    }
   ],
   "source": [
    "import pandas as pd\n",
    "df = pd.DataFrame(a2)\n",
    "df"
   ]
  },
  {
   "cell_type": "code",
   "execution_count": 15,
   "id": "2c58d163",
   "metadata": {},
   "outputs": [
    {
     "data": {
      "text/plain": [
       "array([[1., 1.],\n",
       "       [1., 1.],\n",
       "       [1., 1.],\n",
       "       [1., 1.],\n",
       "       [1., 1.],\n",
       "       [1., 1.],\n",
       "       [1., 1.],\n",
       "       [1., 1.],\n",
       "       [1., 1.],\n",
       "       [1., 1.]])"
      ]
     },
     "execution_count": 15,
     "metadata": {},
     "output_type": "execute_result"
    }
   ],
   "source": [
    "ones = np.ones(shape=(10,2))\n",
    "ones"
   ]
  },
  {
   "cell_type": "code",
   "execution_count": 16,
   "id": "16e21fa1",
   "metadata": {},
   "outputs": [
    {
     "data": {
      "text/plain": [
       "array([[[0., 0., 0.],\n",
       "        [0., 0., 0.]],\n",
       "\n",
       "       [[0., 0., 0.],\n",
       "        [0., 0., 0.]],\n",
       "\n",
       "       [[0., 0., 0.],\n",
       "        [0., 0., 0.]],\n",
       "\n",
       "       [[0., 0., 0.],\n",
       "        [0., 0., 0.]],\n",
       "\n",
       "       [[0., 0., 0.],\n",
       "        [0., 0., 0.]],\n",
       "\n",
       "       [[0., 0., 0.],\n",
       "        [0., 0., 0.]],\n",
       "\n",
       "       [[0., 0., 0.],\n",
       "        [0., 0., 0.]]])"
      ]
     },
     "execution_count": 16,
     "metadata": {},
     "output_type": "execute_result"
    }
   ],
   "source": [
    "zeros = np.zeros(shape = (7, 2, 3))\n",
    "zeros"
   ]
  },
  {
   "cell_type": "code",
   "execution_count": 17,
   "id": "300f097f",
   "metadata": {},
   "outputs": [
    {
     "data": {
      "text/plain": [
       "array([ 0,  3,  6,  9, 12, 15, 18, 21, 24, 27, 30, 33, 36, 39, 42, 45, 48,\n",
       "       51, 54, 57, 60, 63, 66, 69, 72, 75, 78, 81, 84, 87, 90, 93, 96, 99])"
      ]
     },
     "execution_count": 17,
     "metadata": {},
     "output_type": "execute_result"
    }
   ],
   "source": [
    "ranged = np.arange(0,100,3)\n",
    "ranged"
   ]
  },
  {
   "cell_type": "code",
   "execution_count": 21,
   "id": "5d616cdd",
   "metadata": {},
   "outputs": [
    {
     "data": {
      "text/plain": [
       "array([[9, 5],\n",
       "       [1, 8],\n",
       "       [5, 9],\n",
       "       [6, 8],\n",
       "       [3, 8],\n",
       "       [4, 2],\n",
       "       [8, 9]])"
      ]
     },
     "execution_count": 21,
     "metadata": {},
     "output_type": "execute_result"
    }
   ],
   "source": [
    "r_int = np.random.randint(0,10, size=(7, 2))\n",
    "r_int"
   ]
  },
  {
   "cell_type": "code",
   "execution_count": 25,
   "id": "da616a7a",
   "metadata": {},
   "outputs": [
    {
     "data": {
      "text/plain": [
       "array([[0.53932394, 0.28204575, 0.32281491, 0.29856457, 0.43678671],\n",
       "       [0.10540439, 0.48400699, 0.70931952, 0.18029567, 0.47215315],\n",
       "       [0.81407156, 0.66003698, 0.00409792, 0.34997696, 0.98732328]])"
      ]
     },
     "execution_count": 25,
     "metadata": {},
     "output_type": "execute_result"
    }
   ],
   "source": [
    "r_float = np.random.random((3,5))\n",
    "r_float"
   ]
  },
  {
   "cell_type": "code",
   "execution_count": 28,
   "id": "9fa60dac",
   "metadata": {},
   "outputs": [
    {
     "data": {
      "text/plain": [
       "array([[6, 3, 7, 4, 6, 9],\n",
       "       [2, 6, 7, 4, 3, 7],\n",
       "       [7, 2, 5, 4, 1, 7],\n",
       "       [5, 1, 4, 0, 9, 5]])"
      ]
     },
     "execution_count": 28,
     "metadata": {},
     "output_type": "execute_result"
    }
   ],
   "source": [
    "np.random.seed(42)\n",
    "r1 = np.random.randint(10, size=(4,6))\n",
    "r1"
   ]
  },
  {
   "cell_type": "code",
   "execution_count": 31,
   "id": "f0c5d9a0",
   "metadata": {},
   "outputs": [
    {
     "data": {
      "text/plain": [
       "(array([[2, 5, 8, 9, 9, 1, 9],\n",
       "        [7, 9, 8, 1, 8, 8, 3],\n",
       "        [1, 8, 3, 3, 1, 5, 7]]),\n",
       " array([1, 2, 3, 5, 7, 8, 9]))"
      ]
     },
     "execution_count": 31,
     "metadata": {},
     "output_type": "execute_result"
    }
   ],
   "source": [
    "r2 = np.random.randint(1,10, size=(3, 7))\n",
    "r2, np.unique(r2)"
   ]
  },
  {
   "cell_type": "code",
   "execution_count": 32,
   "id": "9759a4f9",
   "metadata": {},
   "outputs": [
    {
     "data": {
      "text/plain": [
       "array([2, 5, 8, 9, 9, 1, 9])"
      ]
     },
     "execution_count": 32,
     "metadata": {},
     "output_type": "execute_result"
    }
   ],
   "source": [
    "r2[0]"
   ]
  },
  {
   "cell_type": "code",
   "execution_count": 36,
   "id": "01a2fe20",
   "metadata": {},
   "outputs": [
    {
     "data": {
      "text/plain": [
       "array([[2, 5],\n",
       "       [7, 9]])"
      ]
     },
     "execution_count": 36,
     "metadata": {},
     "output_type": "execute_result"
    }
   ],
   "source": [
    "r2[:2,:2]"
   ]
  },
  {
   "cell_type": "code",
   "execution_count": 38,
   "id": "7f979978",
   "metadata": {},
   "outputs": [
    {
     "data": {
      "text/plain": [
       "array([[ 1.,  3.,  5.,  3.,  1.],\n",
       "       [ 5., 10.,  7.,  7.,  9.],\n",
       "       [10., 10.,  3.,  7.,  1.]])"
      ]
     },
     "execution_count": 38,
     "metadata": {},
     "output_type": "execute_result"
    }
   ],
   "source": [
    "r3 = np.random.randint(10, size=(3, 5))\n",
    "r4 = np.ones(shape = (3, 5))\n",
    "r3 + r4"
   ]
  },
  {
   "cell_type": "code",
   "execution_count": 39,
   "id": "2de558ad",
   "metadata": {},
   "outputs": [
    {
     "data": {
      "text/plain": [
       "array([[1., 1., 1.],\n",
       "       [1., 1., 1.],\n",
       "       [1., 1., 1.],\n",
       "       [1., 1., 1.],\n",
       "       [1., 1., 1.]])"
      ]
     },
     "execution_count": 39,
     "metadata": {},
     "output_type": "execute_result"
    }
   ],
   "source": [
    "r5 = np.ones(shape = (5, 3))\n",
    "r5"
   ]
  },
  {
   "cell_type": "code",
   "execution_count": 40,
   "id": "9d320491",
   "metadata": {},
   "outputs": [
    {
     "ename": "ValueError",
     "evalue": "operands could not be broadcast together with shapes (5,3) (3,5) ",
     "output_type": "error",
     "traceback": [
      "\u001b[1;31m---------------------------------------------------------------------------\u001b[0m",
      "\u001b[1;31mValueError\u001b[0m                                Traceback (most recent call last)",
      "\u001b[1;32m~\\AppData\\Local\\Temp/ipykernel_1564/1754246758.py\u001b[0m in \u001b[0;36m<module>\u001b[1;34m\u001b[0m\n\u001b[1;32m----> 1\u001b[1;33m \u001b[0mr5\u001b[0m \u001b[1;33m+\u001b[0m \u001b[0mr4\u001b[0m\u001b[1;33m\u001b[0m\u001b[1;33m\u001b[0m\u001b[0m\n\u001b[0m",
      "\u001b[1;31mValueError\u001b[0m: operands could not be broadcast together with shapes (5,3) (3,5) "
     ]
    }
   ],
   "source": [
    "r5 + r4"
   ]
  },
  {
   "cell_type": "code",
   "execution_count": 52,
   "id": "d33bd7fa",
   "metadata": {},
   "outputs": [
    {
     "data": {
      "text/plain": [
       "array([[ 1., -1., -3., -1.,  1.],\n",
       "       [-3., -8., -5., -5., -7.],\n",
       "       [-8., -8., -1., -5.,  1.]])"
      ]
     },
     "execution_count": 52,
     "metadata": {},
     "output_type": "execute_result"
    }
   ],
   "source": [
    "r6 = np.ones(shape=(3, 5))\n",
    "r6 - r3"
   ]
  },
  {
   "cell_type": "code",
   "execution_count": 53,
   "id": "fd67247b",
   "metadata": {},
   "outputs": [
    {
     "data": {
      "text/plain": [
       "array([[0., 2., 4., 2., 0.],\n",
       "       [4., 9., 6., 6., 8.],\n",
       "       [9., 9., 2., 6., 0.]])"
      ]
     },
     "execution_count": 53,
     "metadata": {},
     "output_type": "execute_result"
    }
   ],
   "source": [
    "r6 * r3"
   ]
  },
  {
   "cell_type": "code",
   "execution_count": 54,
   "id": "98b58fcd",
   "metadata": {},
   "outputs": [
    {
     "data": {
      "text/plain": [
       "(array([[ 0,  4, 16,  4,  0],\n",
       "        [16, 81, 36, 36, 64],\n",
       "        [81, 81,  4, 36,  0]]),\n",
       " array([[1., 1., 1., 1., 1.],\n",
       "        [1., 1., 1., 1., 1.],\n",
       "        [1., 1., 1., 1., 1.]]))"
      ]
     },
     "execution_count": 54,
     "metadata": {},
     "output_type": "execute_result"
    }
   ],
   "source": [
    "r3 ** 2, np.square(r6)"
   ]
  },
  {
   "cell_type": "code",
   "execution_count": 55,
   "id": "52798ace",
   "metadata": {},
   "outputs": [
    {
     "data": {
      "text/plain": [
       "4.466666666666667"
      ]
     },
     "execution_count": 55,
     "metadata": {},
     "output_type": "execute_result"
    }
   ],
   "source": [
    "np.mean(r3)"
   ]
  },
  {
   "cell_type": "code",
   "execution_count": 56,
   "id": "40cd8925",
   "metadata": {},
   "outputs": [
    {
     "data": {
      "text/plain": [
       "9"
      ]
     },
     "execution_count": 56,
     "metadata": {},
     "output_type": "execute_result"
    }
   ],
   "source": [
    "np.max(r3)"
   ]
  },
  {
   "cell_type": "code",
   "execution_count": 57,
   "id": "eb20aab0",
   "metadata": {},
   "outputs": [
    {
     "data": {
      "text/plain": [
       "0"
      ]
     },
     "execution_count": 57,
     "metadata": {},
     "output_type": "execute_result"
    }
   ],
   "source": [
    "np.min(r3)"
   ]
  },
  {
   "cell_type": "code",
   "execution_count": 58,
   "id": "58cc1339",
   "metadata": {},
   "outputs": [
    {
     "data": {
      "text/plain": [
       "3.263263533472111"
      ]
     },
     "execution_count": 58,
     "metadata": {},
     "output_type": "execute_result"
    }
   ],
   "source": [
    "np.std(r3)"
   ]
  },
  {
   "cell_type": "code",
   "execution_count": 59,
   "id": "8cdd71ec",
   "metadata": {},
   "outputs": [
    {
     "data": {
      "text/plain": [
       "10.648888888888889"
      ]
     },
     "execution_count": 59,
     "metadata": {},
     "output_type": "execute_result"
    }
   ],
   "source": [
    "np.var(r3)"
   ]
  },
  {
   "cell_type": "code",
   "execution_count": 63,
   "id": "978033cc",
   "metadata": {},
   "outputs": [
    {
     "data": {
      "text/plain": [
       "array([[[1.],\n",
       "        [1.],\n",
       "        [1.],\n",
       "        [1.],\n",
       "        [1.]],\n",
       "\n",
       "       [[1.],\n",
       "        [1.],\n",
       "        [1.],\n",
       "        [1.],\n",
       "        [1.]],\n",
       "\n",
       "       [[1.],\n",
       "        [1.],\n",
       "        [1.],\n",
       "        [1.],\n",
       "        [1.]]])"
      ]
     },
     "execution_count": 63,
     "metadata": {},
     "output_type": "execute_result"
    }
   ],
   "source": [
    "r7 = r6.reshape((3, 5, 1))\n",
    "r7"
   ]
  },
  {
   "cell_type": "code",
   "execution_count": 64,
   "id": "bdf5f73c",
   "metadata": {},
   "outputs": [
    {
     "data": {
      "text/plain": [
       "array([[[1., 1., 1.],\n",
       "        [1., 1., 1.],\n",
       "        [1., 1., 1.],\n",
       "        [1., 1., 1.],\n",
       "        [1., 1., 1.]]])"
      ]
     },
     "execution_count": 64,
     "metadata": {},
     "output_type": "execute_result"
    }
   ],
   "source": [
    "r7.transpose()"
   ]
  },
  {
   "cell_type": "code",
   "execution_count": 69,
   "id": "5fb464ac",
   "metadata": {},
   "outputs": [
    {
     "name": "stdout",
     "output_type": "stream",
     "text": [
      "[[30 64]\n",
      " [52 68]\n",
      " [58 63]]\n"
     ]
    }
   ],
   "source": [
    "arr1 = np.random.randint(10, size=(3, 3))\n",
    "arr2 = np.random.randint(10, size=(3, 2))\n",
    "np.dot(arr1,arr2)"
   ]
  },
  {
   "cell_type": "code",
   "execution_count": 70,
   "id": "06a0d803",
   "metadata": {},
   "outputs": [
    {
     "ename": "ValueError",
     "evalue": "shapes (4,3) and (4,3) not aligned: 3 (dim 1) != 4 (dim 0)",
     "output_type": "error",
     "traceback": [
      "\u001b[1;31m---------------------------------------------------------------------------\u001b[0m",
      "\u001b[1;31mValueError\u001b[0m                                Traceback (most recent call last)",
      "\u001b[1;32m~\\AppData\\Local\\Temp/ipykernel_1564/2290850320.py\u001b[0m in \u001b[0;36m<module>\u001b[1;34m\u001b[0m\n\u001b[0;32m      1\u001b[0m \u001b[0marr3\u001b[0m \u001b[1;33m=\u001b[0m \u001b[0mnp\u001b[0m\u001b[1;33m.\u001b[0m\u001b[0mrandom\u001b[0m\u001b[1;33m.\u001b[0m\u001b[0mrandint\u001b[0m\u001b[1;33m(\u001b[0m\u001b[1;36m10\u001b[0m\u001b[1;33m,\u001b[0m \u001b[0msize\u001b[0m\u001b[1;33m=\u001b[0m\u001b[1;33m(\u001b[0m\u001b[1;36m4\u001b[0m\u001b[1;33m,\u001b[0m\u001b[1;36m3\u001b[0m\u001b[1;33m)\u001b[0m\u001b[1;33m)\u001b[0m\u001b[1;33m\u001b[0m\u001b[1;33m\u001b[0m\u001b[0m\n\u001b[0;32m      2\u001b[0m \u001b[0marr4\u001b[0m \u001b[1;33m=\u001b[0m \u001b[0mnp\u001b[0m\u001b[1;33m.\u001b[0m\u001b[0mrandom\u001b[0m\u001b[1;33m.\u001b[0m\u001b[0mrandint\u001b[0m\u001b[1;33m(\u001b[0m\u001b[1;36m10\u001b[0m\u001b[1;33m,\u001b[0m \u001b[0msize\u001b[0m\u001b[1;33m=\u001b[0m\u001b[1;33m(\u001b[0m\u001b[1;36m4\u001b[0m\u001b[1;33m,\u001b[0m\u001b[1;36m3\u001b[0m\u001b[1;33m)\u001b[0m\u001b[1;33m)\u001b[0m\u001b[1;33m\u001b[0m\u001b[1;33m\u001b[0m\u001b[0m\n\u001b[1;32m----> 3\u001b[1;33m \u001b[0mnp\u001b[0m\u001b[1;33m.\u001b[0m\u001b[0mdot\u001b[0m\u001b[1;33m(\u001b[0m\u001b[0marr3\u001b[0m\u001b[1;33m,\u001b[0m \u001b[0marr4\u001b[0m\u001b[1;33m)\u001b[0m\u001b[1;33m\u001b[0m\u001b[1;33m\u001b[0m\u001b[0m\n\u001b[0m",
      "\u001b[1;32m~\\AppData\\Roaming\\Python\\Python39\\site-packages\\numpy\\core\\overrides.py\u001b[0m in \u001b[0;36mdot\u001b[1;34m(*args, **kwargs)\u001b[0m\n",
      "\u001b[1;31mValueError\u001b[0m: shapes (4,3) and (4,3) not aligned: 3 (dim 1) != 4 (dim 0)"
     ]
    }
   ],
   "source": [
    "arr3 = np.random.randint(10, size=(4,3))\n",
    "arr4 = np.random.randint(10, size=(4,3))\n",
    "np.dot(arr3, arr4)"
   ]
  },
  {
   "cell_type": "code",
   "execution_count": 74,
   "id": "fbd005ec",
   "metadata": {},
   "outputs": [
    {
     "data": {
      "text/plain": [
       "array([[ 49,  87,  72],\n",
       "       [ 18,  44,  14],\n",
       "       [ 81, 132,  85]])"
      ]
     },
     "execution_count": 74,
     "metadata": {},
     "output_type": "execute_result"
    }
   ],
   "source": [
    "\n",
    "np.dot(arr3.T, arr4)\n"
   ]
  },
  {
   "cell_type": "code",
   "execution_count": 77,
   "id": "65560c54",
   "metadata": {},
   "outputs": [
    {
     "data": {
      "text/plain": [
       "(array([[5, 5, 5, 2, 5, 7, 1],\n",
       "        [4, 0, 0, 4, 2, 3, 2]]),\n",
       " array([[0, 0, 4, 5, 2, 8, 4],\n",
       "        [7, 0, 4, 2, 0, 3, 4]]),\n",
       " array([[ True,  True,  True, False,  True, False, False],\n",
       "        [False, False, False,  True,  True, False, False]]),\n",
       " array([[ True,  True,  True, False,  True, False, False],\n",
       "        [False,  True, False,  True,  True,  True, False]]))"
      ]
     },
     "execution_count": 77,
     "metadata": {},
     "output_type": "execute_result"
    }
   ],
   "source": [
    "arr5 = np.random.randint(10, size=(2,7))\n",
    "arr6 = np.random.randint(10, size=(2,7))\n",
    "arr5,arr6, arr5 > arr6, arr5 >= arr6"
   ]
  },
  {
   "cell_type": "code",
   "execution_count": 78,
   "id": "6aa83e82",
   "metadata": {},
   "outputs": [
    {
     "data": {
      "text/plain": [
       "array([[False, False, False, False, False, False, False],\n",
       "       [False, False, False, False, False, False, False]])"
      ]
     },
     "execution_count": 78,
     "metadata": {},
     "output_type": "execute_result"
    }
   ],
   "source": [
    "arr5 > 7"
   ]
  },
  {
   "cell_type": "code",
   "execution_count": 79,
   "id": "9a24644b",
   "metadata": {},
   "outputs": [
    {
     "data": {
      "text/plain": [
       "array([[False, False, False, False, False, False, False],\n",
       "       [False,  True, False, False, False,  True, False]])"
      ]
     },
     "execution_count": 79,
     "metadata": {},
     "output_type": "execute_result"
    }
   ],
   "source": [
    "arr5 == arr6"
   ]
  },
  {
   "cell_type": "code",
   "execution_count": 85,
   "id": "3ae9f175",
   "metadata": {},
   "outputs": [
    {
     "data": {
      "text/plain": [
       "(array([[1, 2, 5, 5, 5, 5, 7],\n",
       "        [0, 0, 2, 2, 3, 4, 4]]),\n",
       " array([[6, 3, 0, 1, 2, 4, 5],\n",
       "        [1, 2, 4, 6, 5, 0, 3]], dtype=int64))"
      ]
     },
     "execution_count": 85,
     "metadata": {},
     "output_type": "execute_result"
    }
   ],
   "source": [
    "np.sort(arr5), np.argsort(arr5)"
   ]
  },
  {
   "cell_type": "code",
   "execution_count": 87,
   "id": "a8174f53",
   "metadata": {},
   "outputs": [
    {
     "data": {
      "text/plain": [
       "(5, 8)"
      ]
     },
     "execution_count": 87,
     "metadata": {},
     "output_type": "execute_result"
    }
   ],
   "source": [
    "np.argmax(arr5), np.argmin(arr5)"
   ]
  },
  {
   "cell_type": "code",
   "execution_count": 89,
   "id": "bbbfa3cd",
   "metadata": {},
   "outputs": [
    {
     "data": {
      "text/plain": [
       "(array([5, 0], dtype=int64), array([1, 1, 1, 0, 1, 1, 0], dtype=int64))"
      ]
     },
     "execution_count": 89,
     "metadata": {},
     "output_type": "execute_result"
    }
   ],
   "source": [
    "np.argmax(arr5,axis=1), np.argmin(arr5,axis=0)"
   ]
  },
  {
   "cell_type": "code",
   "execution_count": 90,
   "id": "735407ee",
   "metadata": {},
   "outputs": [
    {
     "data": {
      "text/plain": [
       "array([[-0.60937338, -0.8135211 , -2.31806825],\n",
       "       [-0.26801835,  1.09632979, -0.33541102],\n",
       "       [ 0.63511255, -1.08020087, -1.30569755],\n",
       "       [-0.75076184, -1.02549987, -1.18303961]])"
      ]
     },
     "execution_count": 90,
     "metadata": {},
     "output_type": "execute_result"
    }
   ],
   "source": [
    "np.random.randn(4, 3)"
   ]
  },
  {
   "cell_type": "code",
   "execution_count": 91,
   "id": "40f3abe9",
   "metadata": {},
   "outputs": [
    {
     "data": {
      "text/plain": [
       "array([  1.,  12.,  23.,  34.,  45.,  56.,  67.,  78.,  89., 100.])"
      ]
     },
     "execution_count": 91,
     "metadata": {},
     "output_type": "execute_result"
    }
   ],
   "source": [
    "np.linspace(1, 100, 10)"
   ]
  }
 ],
 "metadata": {
  "kernelspec": {
   "display_name": "Python 3 (ipykernel)",
   "language": "python",
   "name": "python3"
  },
  "language_info": {
   "codemirror_mode": {
    "name": "ipython",
    "version": 3
   },
   "file_extension": ".py",
   "mimetype": "text/x-python",
   "name": "python",
   "nbconvert_exporter": "python",
   "pygments_lexer": "ipython3",
   "version": "3.9.7"
  }
 },
 "nbformat": 4,
 "nbformat_minor": 5
}
